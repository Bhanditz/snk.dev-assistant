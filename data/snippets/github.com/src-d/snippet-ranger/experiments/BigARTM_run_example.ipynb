{
 "cells": [
  {
   "cell_type": "markdown",
   "metadata": {},
   "source": [
    "# Simple draft experiment using BigARTM Python API"
   ]
  },
  {
   "cell_type": "markdown",
   "metadata": {},
   "source": [
    "Here one can find a code to understand how to work with [BigARTM](http://bigartm.org) and build shallow and hierarchical models.\n",
    "\n",
    "Before you can run script, you should collect dataset and install BigARTM.\n",
    "You can find instructions in [README](https://github.com/src-d/snippet-ranger).\n",
    "\n",
    "To install BigARTM you can use script from [./helpers/install_bigartm.sh](https://github.com/src-d/snippet-ranger/tree/master/helpers/install_bigartm.sh)"
   ]
  },
  {
   "cell_type": "code",
   "execution_count": 1,
   "metadata": {},
   "outputs": [
    {
     "name": "stderr",
     "output_type": "stream",
     "text": [
      "INFO:bigARTM_experiment:artm version: 0.8.3\n"
     ]
    }
   ],
   "source": [
    "import glob\n",
    "import os\n",
    "import logging\n",
    "\n",
    "import artm\n",
    "import numpy as np\n",
    "import matplotlib.pyplot as plt\n",
    "%matplotlib inline\n",
    "\n",
    "logging.basicConfig(level=logging.INFO)\n",
    "log = logging.getLogger(\"bigARTM_experiment\")\n",
    "log.info(\"artm version: {}\".format(artm.version()))"
   ]
  },
  {
   "cell_type": "code",
   "execution_count": 2,
   "metadata": {},
   "outputs": [],
   "source": [
    "seed = 42\n",
    "# BigARTM optimisation params\n",
    "num_topics = 50  # topics numbers\n",
    "cache_theta = True\n",
    "num_document_passes = 1\n",
    "num_collection_passes_output = 1\n",
    "num_collection_passes_full = 35"
   ]
  },
  {
   "cell_type": "code",
   "execution_count": 3,
   "metadata": {},
   "outputs": [],
   "source": [
    "# Please change it to your data directory.\n",
    "data_dir = \"/storage/konstantin/data/\"  \n",
    "fc = \"_fc\"\n",
    "libname = \"matplotlib\" + fc\n",
    "# from where load vowpal_wabbit dataset\n",
    "vw_path = os.path.join(data_dir, \"vowpal_wabbit/vw_{}.txt\".format(libname))\n",
    "\n",
    "# where to save batches for BigARTM\n",
    "batches_dir = os.path.join(data_dir, \"batches/{}/\".format(libname))\n",
    "# where to save BigARTM model\n",
    "artm_model_dir = os.path.join(data_dir, \"models/hartm_{}/\".format(libname))  \n",
    "# where to save dictionary for BigARTM\n",
    "dict_path = os.path.join(batches_dir, \"artm.dict\")"
   ]
  },
  {
   "cell_type": "code",
   "execution_count": 4,
   "metadata": {
    "scrolled": true
   },
   "outputs": [
    {
     "name": "stderr",
     "output_type": "stream",
     "text": [
      "INFO:bigARTM_experiment:Batches directory found. Use batches from it and dictionary from dict_path.\n"
     ]
    }
   ],
   "source": [
    "if not os.path.exists(batches_dir):\n",
    "    log.info(\"Batches directory does not exists, create new batches from vowpal_wabbit format\")\n",
    "    batch_vectorizer = artm.BatchVectorizer(\n",
    "        data_path=vw_path, data_format=\"vowpal_wabbit\", collection_name=libname, target_folder=batches_dir)\n",
    "    batch_vectorizer.dictionary.save(dict_path)\n",
    "    dictionary = batch_vectorizer.dictionary\n",
    "else:\n",
    "    log.info(\"Batches directory found. Use batches from it and dictionary from dict_path.\")\n",
    "    batch_vectorizer = artm.BatchVectorizer(\n",
    "        data_path=batches_dir, data_format=\"batches\", collection_name=libname)\n",
    "    dictionary = artm.Dictionary(name=None, dictionary_path=dict_path, data_path=batches_dir)"
   ]
  },
  {
   "cell_type": "code",
   "execution_count": 5,
   "metadata": {},
   "outputs": [
    {
     "name": "stderr",
     "output_type": "stream",
     "text": [
      "INFO:bigARTM_experiment:num_batches: 311\n",
      "INFO:bigARTM_experiment:batch_size : 1000\n",
      "INFO:bigARTM_experiment:num_topics : 50\n"
     ]
    }
   ],
   "source": [
    "# important info output\n",
    "log.info(\"num_batches: %d\", batch_vectorizer.num_batches)\n",
    "log.info(\"batch_size : %d\", batch_vectorizer.batch_size)\n",
    "log.info(\"num_topics : %d\", num_topics)"
   ]
  },
  {
   "cell_type": "code",
   "execution_count": 6,
   "metadata": {},
   "outputs": [],
   "source": [
    "# whitch scores BigARTM model should calculate during optimization\n",
    "scores = [\n",
    "    artm.PerplexityScore(name='PerplexityScore', dictionary=dictionary),\n",
    "    artm.SparsityPhiScore(name='SparsityPhiScore'),\n",
    "    artm.SparsityThetaScore(name='SparsityThetaScore'),\n",
    "    artm.TopicKernelScore(name='TopicKernelScore', probability_mass_threshold=0.3),\n",
    "    artm.TopTokensScore(name='TopTokensScore', num_tokens=10),\n",
    "         ]\n",
    "\n",
    "# Add regularizers to BigARTM model. \n",
    "# Check out http://bigartm.readthedocs.io/en/latest/tutorials/regularizers_descr.html\n",
    "regularizers = [\n",
    "    artm.SmoothSparseThetaRegularizer(name='SparseTheta', tau=-0.001),\n",
    "    artm.SmoothSparsePhiRegularizer(name='SparsePhi', tau=-0.001),\n",
    "               ]\n",
    "\n",
    "model_artm = artm.ARTM(num_topics=num_topics, \n",
    "                       dictionary=dictionary, \n",
    "                       scores=scores, \n",
    "                       regularizers=regularizers,\n",
    "                       num_document_passes=num_document_passes,\n",
    "                       cache_theta=cache_theta,\n",
    "                       show_progress_bars=True,\n",
    "                       theta_columns_naming='title')\n",
    "\n",
    "model_artm.initialize(dictionary=dictionary)"
   ]
  },
  {
   "cell_type": "code",
   "execution_count": 7,
   "metadata": {},
   "outputs": [],
   "source": [
    "def print_measures(model_artm):\n",
    "    \"\"\"\n",
    "    Helper function to output score info\n",
    "    \"\"\"\n",
    "    for key in model_artm.score_tracker:\n",
    "        if hasattr(model_artm.score_tracker[key], \"last_value\"):\n",
    "            print('{}: {}{:10.3f}'.format(key, \" \" * ( 20 - len(key)), model_artm.score_tracker[key].last_value))\n",
    "\n",
    "    print('Kernel contrast:      {:10.3f}'.format(\n",
    "        model_artm.score_tracker['TopicKernelScore'].last_average_contrast))\n",
    "\n",
    "    print('Kernel purity:        {0:10.3f}'.format(\n",
    "        model_artm.score_tracker['TopicKernelScore'].last_average_purity))\n",
    "    \n",
    "    print()"
   ]
  },
  {
   "cell_type": "markdown",
   "metadata": {},
   "source": [
    "## Train model"
   ]
  },
  {
   "cell_type": "code",
   "execution_count": 8,
   "metadata": {
    "scrolled": true
   },
   "outputs": [
    {
     "data": {
      "application/vnd.jupyter.widget-view+json": {
       "model_id": "3a5b7002f1454de0ba9aff3f42f4f2cd",
       "version_major": 2,
       "version_minor": 0
      },
      "text/html": [
       "<p>Failed to display Jupyter Widget of type <code>HBox</code>.</p>\n",
       "<p>\n",
       "  If you're reading this message in Jupyter Notebook or JupyterLab, it may mean\n",
       "  that the widgets JavaScript is still loading. If this message persists, it\n",
       "  likely means that the widgets JavaScript library is either not installed or\n",
       "  not enabled. See the <a href=\"https://ipywidgets.readthedocs.io/en/stable/user_install.html\">Jupyter\n",
       "  Widgets Documentation</a> for setup instructions.\n",
       "</p>\n",
       "<p>\n",
       "  If you're reading this message in another notebook frontend (for example, a static\n",
       "  rendering on GitHub or <a href=\"https://nbviewer.jupyter.org/\">NBViewer</a>),\n",
       "  it may mean that your frontend doesn't currently support widgets.\n",
       "</p>\n"
      ],
      "text/plain": [
       "HBox(children=(IntProgress(value=0, description='Pass: ', max=35), HTML(value='')))"
      ]
     },
     "metadata": {},
     "output_type": "display_data"
    },
    {
     "data": {
      "application/vnd.jupyter.widget-view+json": {
       "model_id": "2bc374652aeb435c884cfe5e7ab6f710",
       "version_major": 2,
       "version_minor": 0
      },
      "text/html": [
       "<p>Failed to display Jupyter Widget of type <code>HBox</code>.</p>\n",
       "<p>\n",
       "  If you're reading this message in Jupyter Notebook or JupyterLab, it may mean\n",
       "  that the widgets JavaScript is still loading. If this message persists, it\n",
       "  likely means that the widgets JavaScript library is either not installed or\n",
       "  not enabled. See the <a href=\"https://ipywidgets.readthedocs.io/en/stable/user_install.html\">Jupyter\n",
       "  Widgets Documentation</a> for setup instructions.\n",
       "</p>\n",
       "<p>\n",
       "  If you're reading this message in another notebook frontend (for example, a static\n",
       "  rendering on GitHub or <a href=\"https://nbviewer.jupyter.org/\">NBViewer</a>),\n",
       "  it may mean that your frontend doesn't currently support widgets.\n",
       "</p>\n"
      ],
      "text/plain": [
       "HBox(children=(IntProgress(value=0, description='Batch: ', max=311), HTML(value='')))"
      ]
     },
     "metadata": {},
     "output_type": "display_data"
    },
    {
     "data": {
      "application/vnd.jupyter.widget-view+json": {
       "model_id": "d06aa87d72cd47d09ff99fba9391b947",
       "version_major": 2,
       "version_minor": 0
      },
      "text/html": [
       "<p>Failed to display Jupyter Widget of type <code>HBox</code>.</p>\n",
       "<p>\n",
       "  If you're reading this message in Jupyter Notebook or JupyterLab, it may mean\n",
       "  that the widgets JavaScript is still loading. If this message persists, it\n",
       "  likely means that the widgets JavaScript library is either not installed or\n",
       "  not enabled. See the <a href=\"https://ipywidgets.readthedocs.io/en/stable/user_install.html\">Jupyter\n",
       "  Widgets Documentation</a> for setup instructions.\n",
       "</p>\n",
       "<p>\n",
       "  If you're reading this message in another notebook frontend (for example, a static\n",
       "  rendering on GitHub or <a href=\"https://nbviewer.jupyter.org/\">NBViewer</a>),\n",
       "  it may mean that your frontend doesn't currently support widgets.\n",
       "</p>\n"
      ],
      "text/plain": [
       "HBox(children=(IntProgress(value=0, description='Batch: ', max=311), HTML(value='')))"
      ]
     },
     "metadata": {},
     "output_type": "display_data"
    },
    {
     "data": {
      "application/vnd.jupyter.widget-view+json": {
       "model_id": "ddca4a5f0e03412ab00f9916d98b54e0",
       "version_major": 2,
       "version_minor": 0
      },
      "text/html": [
       "<p>Failed to display Jupyter Widget of type <code>HBox</code>.</p>\n",
       "<p>\n",
       "  If you're reading this message in Jupyter Notebook or JupyterLab, it may mean\n",
       "  that the widgets JavaScript is still loading. If this message persists, it\n",
       "  likely means that the widgets JavaScript library is either not installed or\n",
       "  not enabled. See the <a href=\"https://ipywidgets.readthedocs.io/en/stable/user_install.html\">Jupyter\n",
       "  Widgets Documentation</a> for setup instructions.\n",
       "</p>\n",
       "<p>\n",
       "  If you're reading this message in another notebook frontend (for example, a static\n",
       "  rendering on GitHub or <a href=\"https://nbviewer.jupyter.org/\">NBViewer</a>),\n",
       "  it may mean that your frontend doesn't currently support widgets.\n",
       "</p>\n"
      ],
      "text/plain": [
       "HBox(children=(IntProgress(value=0, description='Batch: ', max=311), HTML(value='')))"
      ]
     },
     "metadata": {},
     "output_type": "display_data"
    },
    {
     "data": {
      "application/vnd.jupyter.widget-view+json": {
       "model_id": "9cb0944dbe7d451fa6b99d04cf02fae7",
       "version_major": 2,
       "version_minor": 0
      },
      "text/html": [
       "<p>Failed to display Jupyter Widget of type <code>HBox</code>.</p>\n",
       "<p>\n",
       "  If you're reading this message in Jupyter Notebook or JupyterLab, it may mean\n",
       "  that the widgets JavaScript is still loading. If this message persists, it\n",
       "  likely means that the widgets JavaScript library is either not installed or\n",
       "  not enabled. See the <a href=\"https://ipywidgets.readthedocs.io/en/stable/user_install.html\">Jupyter\n",
       "  Widgets Documentation</a> for setup instructions.\n",
       "</p>\n",
       "<p>\n",
       "  If you're reading this message in another notebook frontend (for example, a static\n",
       "  rendering on GitHub or <a href=\"https://nbviewer.jupyter.org/\">NBViewer</a>),\n",
       "  it may mean that your frontend doesn't currently support widgets.\n",
       "</p>\n"
      ],
      "text/plain": [
       "HBox(children=(IntProgress(value=0, description='Batch: ', max=311), HTML(value='')))"
      ]
     },
     "metadata": {},
     "output_type": "display_data"
    },
    {
     "data": {
      "application/vnd.jupyter.widget-view+json": {
       "model_id": "5043e40e62fd43ecb1abc44b62dddc16",
       "version_major": 2,
       "version_minor": 0
      },
      "text/html": [
       "<p>Failed to display Jupyter Widget of type <code>HBox</code>.</p>\n",
       "<p>\n",
       "  If you're reading this message in Jupyter Notebook or JupyterLab, it may mean\n",
       "  that the widgets JavaScript is still loading. If this message persists, it\n",
       "  likely means that the widgets JavaScript library is either not installed or\n",
       "  not enabled. See the <a href=\"https://ipywidgets.readthedocs.io/en/stable/user_install.html\">Jupyter\n",
       "  Widgets Documentation</a> for setup instructions.\n",
       "</p>\n",
       "<p>\n",
       "  If you're reading this message in another notebook frontend (for example, a static\n",
       "  rendering on GitHub or <a href=\"https://nbviewer.jupyter.org/\">NBViewer</a>),\n",
       "  it may mean that your frontend doesn't currently support widgets.\n",
       "</p>\n"
      ],
      "text/plain": [
       "HBox(children=(IntProgress(value=0, description='Batch: ', max=311), HTML(value='')))"
      ]
     },
     "metadata": {},
     "output_type": "display_data"
    },
    {
     "data": {
      "application/vnd.jupyter.widget-view+json": {
       "model_id": "48ec67774c0a4102bc235167dfa1c639",
       "version_major": 2,
       "version_minor": 0
      },
      "text/html": [
       "<p>Failed to display Jupyter Widget of type <code>HBox</code>.</p>\n",
       "<p>\n",
       "  If you're reading this message in Jupyter Notebook or JupyterLab, it may mean\n",
       "  that the widgets JavaScript is still loading. If this message persists, it\n",
       "  likely means that the widgets JavaScript library is either not installed or\n",
       "  not enabled. See the <a href=\"https://ipywidgets.readthedocs.io/en/stable/user_install.html\">Jupyter\n",
       "  Widgets Documentation</a> for setup instructions.\n",
       "</p>\n",
       "<p>\n",
       "  If you're reading this message in another notebook frontend (for example, a static\n",
       "  rendering on GitHub or <a href=\"https://nbviewer.jupyter.org/\">NBViewer</a>),\n",
       "  it may mean that your frontend doesn't currently support widgets.\n",
       "</p>\n"
      ],
      "text/plain": [
       "HBox(children=(IntProgress(value=0, description='Batch: ', max=311), HTML(value='')))"
      ]
     },
     "metadata": {},
     "output_type": "display_data"
    },
    {
     "data": {
      "application/vnd.jupyter.widget-view+json": {
       "model_id": "b8dd15735d934bf9a9769df2bdc9d32a",
       "version_major": 2,
       "version_minor": 0
      },
      "text/html": [
       "<p>Failed to display Jupyter Widget of type <code>HBox</code>.</p>\n",
       "<p>\n",
       "  If you're reading this message in Jupyter Notebook or JupyterLab, it may mean\n",
       "  that the widgets JavaScript is still loading. If this message persists, it\n",
       "  likely means that the widgets JavaScript library is either not installed or\n",
       "  not enabled. See the <a href=\"https://ipywidgets.readthedocs.io/en/stable/user_install.html\">Jupyter\n",
       "  Widgets Documentation</a> for setup instructions.\n",
       "</p>\n",
       "<p>\n",
       "  If you're reading this message in another notebook frontend (for example, a static\n",
       "  rendering on GitHub or <a href=\"https://nbviewer.jupyter.org/\">NBViewer</a>),\n",
       "  it may mean that your frontend doesn't currently support widgets.\n",
       "</p>\n"
      ],
      "text/plain": [
       "HBox(children=(IntProgress(value=0, description='Batch: ', max=311), HTML(value='')))"
      ]
     },
     "metadata": {},
     "output_type": "display_data"
    },
    {
     "data": {
      "application/vnd.jupyter.widget-view+json": {
       "model_id": "427d9d113b03489091ca620a1ee1c123",
       "version_major": 2,
       "version_minor": 0
      },
      "text/html": [
       "<p>Failed to display Jupyter Widget of type <code>HBox</code>.</p>\n",
       "<p>\n",
       "  If you're reading this message in Jupyter Notebook or JupyterLab, it may mean\n",
       "  that the widgets JavaScript is still loading. If this message persists, it\n",
       "  likely means that the widgets JavaScript library is either not installed or\n",
       "  not enabled. See the <a href=\"https://ipywidgets.readthedocs.io/en/stable/user_install.html\">Jupyter\n",
       "  Widgets Documentation</a> for setup instructions.\n",
       "</p>\n",
       "<p>\n",
       "  If you're reading this message in another notebook frontend (for example, a static\n",
       "  rendering on GitHub or <a href=\"https://nbviewer.jupyter.org/\">NBViewer</a>),\n",
       "  it may mean that your frontend doesn't currently support widgets.\n",
       "</p>\n"
      ],
      "text/plain": [
       "HBox(children=(IntProgress(value=0, description='Batch: ', max=311), HTML(value='')))"
      ]
     },
     "metadata": {},
     "output_type": "display_data"
    },
    {
     "data": {
      "application/vnd.jupyter.widget-view+json": {
       "model_id": "649958ce31de44579a23e59a5b270b1b",
       "version_major": 2,
       "version_minor": 0
      },
      "text/html": [
       "<p>Failed to display Jupyter Widget of type <code>HBox</code>.</p>\n",
       "<p>\n",
       "  If you're reading this message in Jupyter Notebook or JupyterLab, it may mean\n",
       "  that the widgets JavaScript is still loading. If this message persists, it\n",
       "  likely means that the widgets JavaScript library is either not installed or\n",
       "  not enabled. See the <a href=\"https://ipywidgets.readthedocs.io/en/stable/user_install.html\">Jupyter\n",
       "  Widgets Documentation</a> for setup instructions.\n",
       "</p>\n",
       "<p>\n",
       "  If you're reading this message in another notebook frontend (for example, a static\n",
       "  rendering on GitHub or <a href=\"https://nbviewer.jupyter.org/\">NBViewer</a>),\n",
       "  it may mean that your frontend doesn't currently support widgets.\n",
       "</p>\n"
      ],
      "text/plain": [
       "HBox(children=(IntProgress(value=0, description='Batch: ', max=311), HTML(value='')))"
      ]
     },
     "metadata": {},
     "output_type": "display_data"
    },
    {
     "data": {
      "application/vnd.jupyter.widget-view+json": {
       "model_id": "8606199f55344118bd8c5c6b7e54e1af",
       "version_major": 2,
       "version_minor": 0
      },
      "text/html": [
       "<p>Failed to display Jupyter Widget of type <code>HBox</code>.</p>\n",
       "<p>\n",
       "  If you're reading this message in Jupyter Notebook or JupyterLab, it may mean\n",
       "  that the widgets JavaScript is still loading. If this message persists, it\n",
       "  likely means that the widgets JavaScript library is either not installed or\n",
       "  not enabled. See the <a href=\"https://ipywidgets.readthedocs.io/en/stable/user_install.html\">Jupyter\n",
       "  Widgets Documentation</a> for setup instructions.\n",
       "</p>\n",
       "<p>\n",
       "  If you're reading this message in another notebook frontend (for example, a static\n",
       "  rendering on GitHub or <a href=\"https://nbviewer.jupyter.org/\">NBViewer</a>),\n",
       "  it may mean that your frontend doesn't currently support widgets.\n",
       "</p>\n"
      ],
      "text/plain": [
       "HBox(children=(IntProgress(value=0, description='Batch: ', max=311), HTML(value='')))"
      ]
     },
     "metadata": {},
     "output_type": "display_data"
    },
    {
     "data": {
      "application/vnd.jupyter.widget-view+json": {
       "model_id": "42a56aa0c3f14c2ea250f483e2ba8ea7",
       "version_major": 2,
       "version_minor": 0
      },
      "text/html": [
       "<p>Failed to display Jupyter Widget of type <code>HBox</code>.</p>\n",
       "<p>\n",
       "  If you're reading this message in Jupyter Notebook or JupyterLab, it may mean\n",
       "  that the widgets JavaScript is still loading. If this message persists, it\n",
       "  likely means that the widgets JavaScript library is either not installed or\n",
       "  not enabled. See the <a href=\"https://ipywidgets.readthedocs.io/en/stable/user_install.html\">Jupyter\n",
       "  Widgets Documentation</a> for setup instructions.\n",
       "</p>\n",
       "<p>\n",
       "  If you're reading this message in another notebook frontend (for example, a static\n",
       "  rendering on GitHub or <a href=\"https://nbviewer.jupyter.org/\">NBViewer</a>),\n",
       "  it may mean that your frontend doesn't currently support widgets.\n",
       "</p>\n"
      ],
      "text/plain": [
       "HBox(children=(IntProgress(value=0, description='Batch: ', max=311), HTML(value='')))"
      ]
     },
     "metadata": {},
     "output_type": "display_data"
    },
    {
     "data": {
      "application/vnd.jupyter.widget-view+json": {
       "model_id": "e55d46a289044e55aa1f28a2e17c895a",
       "version_major": 2,
       "version_minor": 0
      },
      "text/html": [
       "<p>Failed to display Jupyter Widget of type <code>HBox</code>.</p>\n",
       "<p>\n",
       "  If you're reading this message in Jupyter Notebook or JupyterLab, it may mean\n",
       "  that the widgets JavaScript is still loading. If this message persists, it\n",
       "  likely means that the widgets JavaScript library is either not installed or\n",
       "  not enabled. See the <a href=\"https://ipywidgets.readthedocs.io/en/stable/user_install.html\">Jupyter\n",
       "  Widgets Documentation</a> for setup instructions.\n",
       "</p>\n",
       "<p>\n",
       "  If you're reading this message in another notebook frontend (for example, a static\n",
       "  rendering on GitHub or <a href=\"https://nbviewer.jupyter.org/\">NBViewer</a>),\n",
       "  it may mean that your frontend doesn't currently support widgets.\n",
       "</p>\n"
      ],
      "text/plain": [
       "HBox(children=(IntProgress(value=0, description='Batch: ', max=311), HTML(value='')))"
      ]
     },
     "metadata": {},
     "output_type": "display_data"
    },
    {
     "data": {
      "application/vnd.jupyter.widget-view+json": {
       "model_id": "39f94e1232224c5fa353fcc3292a3abc",
       "version_major": 2,
       "version_minor": 0
      },
      "text/html": [
       "<p>Failed to display Jupyter Widget of type <code>HBox</code>.</p>\n",
       "<p>\n",
       "  If you're reading this message in Jupyter Notebook or JupyterLab, it may mean\n",
       "  that the widgets JavaScript is still loading. If this message persists, it\n",
       "  likely means that the widgets JavaScript library is either not installed or\n",
       "  not enabled. See the <a href=\"https://ipywidgets.readthedocs.io/en/stable/user_install.html\">Jupyter\n",
       "  Widgets Documentation</a> for setup instructions.\n",
       "</p>\n",
       "<p>\n",
       "  If you're reading this message in another notebook frontend (for example, a static\n",
       "  rendering on GitHub or <a href=\"https://nbviewer.jupyter.org/\">NBViewer</a>),\n",
       "  it may mean that your frontend doesn't currently support widgets.\n",
       "</p>\n"
      ],
      "text/plain": [
       "HBox(children=(IntProgress(value=0, description='Batch: ', max=311), HTML(value='')))"
      ]
     },
     "metadata": {},
     "output_type": "display_data"
    },
    {
     "data": {
      "application/vnd.jupyter.widget-view+json": {
       "model_id": "241aaf53923948e0b723fa43084fece6",
       "version_major": 2,
       "version_minor": 0
      },
      "text/html": [
       "<p>Failed to display Jupyter Widget of type <code>HBox</code>.</p>\n",
       "<p>\n",
       "  If you're reading this message in Jupyter Notebook or JupyterLab, it may mean\n",
       "  that the widgets JavaScript is still loading. If this message persists, it\n",
       "  likely means that the widgets JavaScript library is either not installed or\n",
       "  not enabled. See the <a href=\"https://ipywidgets.readthedocs.io/en/stable/user_install.html\">Jupyter\n",
       "  Widgets Documentation</a> for setup instructions.\n",
       "</p>\n",
       "<p>\n",
       "  If you're reading this message in another notebook frontend (for example, a static\n",
       "  rendering on GitHub or <a href=\"https://nbviewer.jupyter.org/\">NBViewer</a>),\n",
       "  it may mean that your frontend doesn't currently support widgets.\n",
       "</p>\n"
      ],
      "text/plain": [
       "HBox(children=(IntProgress(value=0, description='Batch: ', max=311), HTML(value='')))"
      ]
     },
     "metadata": {},
     "output_type": "display_data"
    },
    {
     "data": {
      "application/vnd.jupyter.widget-view+json": {
       "model_id": "9f81a3ca4fc342c38876776fb6fde328",
       "version_major": 2,
       "version_minor": 0
      },
      "text/html": [
       "<p>Failed to display Jupyter Widget of type <code>HBox</code>.</p>\n",
       "<p>\n",
       "  If you're reading this message in Jupyter Notebook or JupyterLab, it may mean\n",
       "  that the widgets JavaScript is still loading. If this message persists, it\n",
       "  likely means that the widgets JavaScript library is either not installed or\n",
       "  not enabled. See the <a href=\"https://ipywidgets.readthedocs.io/en/stable/user_install.html\">Jupyter\n",
       "  Widgets Documentation</a> for setup instructions.\n",
       "</p>\n",
       "<p>\n",
       "  If you're reading this message in another notebook frontend (for example, a static\n",
       "  rendering on GitHub or <a href=\"https://nbviewer.jupyter.org/\">NBViewer</a>),\n",
       "  it may mean that your frontend doesn't currently support widgets.\n",
       "</p>\n"
      ],
      "text/plain": [
       "HBox(children=(IntProgress(value=0, description='Batch: ', max=311), HTML(value='')))"
      ]
     },
     "metadata": {},
     "output_type": "display_data"
    },
    {
     "data": {
      "application/vnd.jupyter.widget-view+json": {
       "model_id": "f9c010c9e185427898c86f8d3129f358",
       "version_major": 2,
       "version_minor": 0
      },
      "text/html": [
       "<p>Failed to display Jupyter Widget of type <code>HBox</code>.</p>\n",
       "<p>\n",
       "  If you're reading this message in Jupyter Notebook or JupyterLab, it may mean\n",
       "  that the widgets JavaScript is still loading. If this message persists, it\n",
       "  likely means that the widgets JavaScript library is either not installed or\n",
       "  not enabled. See the <a href=\"https://ipywidgets.readthedocs.io/en/stable/user_install.html\">Jupyter\n",
       "  Widgets Documentation</a> for setup instructions.\n",
       "</p>\n",
       "<p>\n",
       "  If you're reading this message in another notebook frontend (for example, a static\n",
       "  rendering on GitHub or <a href=\"https://nbviewer.jupyter.org/\">NBViewer</a>),\n",
       "  it may mean that your frontend doesn't currently support widgets.\n",
       "</p>\n"
      ],
      "text/plain": [
       "HBox(children=(IntProgress(value=0, description='Batch: ', max=311), HTML(value='')))"
      ]
     },
     "metadata": {},
     "output_type": "display_data"
    },
    {
     "data": {
      "application/vnd.jupyter.widget-view+json": {
       "model_id": "1aab6f1e14f341c0be079b3aa14c9aad",
       "version_major": 2,
       "version_minor": 0
      },
      "text/html": [
       "<p>Failed to display Jupyter Widget of type <code>HBox</code>.</p>\n",
       "<p>\n",
       "  If you're reading this message in Jupyter Notebook or JupyterLab, it may mean\n",
       "  that the widgets JavaScript is still loading. If this message persists, it\n",
       "  likely means that the widgets JavaScript library is either not installed or\n",
       "  not enabled. See the <a href=\"https://ipywidgets.readthedocs.io/en/stable/user_install.html\">Jupyter\n",
       "  Widgets Documentation</a> for setup instructions.\n",
       "</p>\n",
       "<p>\n",
       "  If you're reading this message in another notebook frontend (for example, a static\n",
       "  rendering on GitHub or <a href=\"https://nbviewer.jupyter.org/\">NBViewer</a>),\n",
       "  it may mean that your frontend doesn't currently support widgets.\n",
       "</p>\n"
      ],
      "text/plain": [
       "HBox(children=(IntProgress(value=0, description='Batch: ', max=311), HTML(value='')))"
      ]
     },
     "metadata": {},
     "output_type": "display_data"
    },
    {
     "data": {
      "application/vnd.jupyter.widget-view+json": {
       "model_id": "16bbb877e9174f489c1f8e0dba2b5e3e",
       "version_major": 2,
       "version_minor": 0
      },
      "text/html": [
       "<p>Failed to display Jupyter Widget of type <code>HBox</code>.</p>\n",
       "<p>\n",
       "  If you're reading this message in Jupyter Notebook or JupyterLab, it may mean\n",
       "  that the widgets JavaScript is still loading. If this message persists, it\n",
       "  likely means that the widgets JavaScript library is either not installed or\n",
       "  not enabled. See the <a href=\"https://ipywidgets.readthedocs.io/en/stable/user_install.html\">Jupyter\n",
       "  Widgets Documentation</a> for setup instructions.\n",
       "</p>\n",
       "<p>\n",
       "  If you're reading this message in another notebook frontend (for example, a static\n",
       "  rendering on GitHub or <a href=\"https://nbviewer.jupyter.org/\">NBViewer</a>),\n",
       "  it may mean that your frontend doesn't currently support widgets.\n",
       "</p>\n"
      ],
      "text/plain": [
       "HBox(children=(IntProgress(value=0, description='Batch: ', max=311), HTML(value='')))"
      ]
     },
     "metadata": {},
     "output_type": "display_data"
    },
    {
     "data": {
      "application/vnd.jupyter.widget-view+json": {
       "model_id": "4e06b80f038f4c62b60c03d3a101d684",
       "version_major": 2,
       "version_minor": 0
      },
      "text/html": [
       "<p>Failed to display Jupyter Widget of type <code>HBox</code>.</p>\n",
       "<p>\n",
       "  If you're reading this message in Jupyter Notebook or JupyterLab, it may mean\n",
       "  that the widgets JavaScript is still loading. If this message persists, it\n",
       "  likely means that the widgets JavaScript library is either not installed or\n",
       "  not enabled. See the <a href=\"https://ipywidgets.readthedocs.io/en/stable/user_install.html\">Jupyter\n",
       "  Widgets Documentation</a> for setup instructions.\n",
       "</p>\n",
       "<p>\n",
       "  If you're reading this message in another notebook frontend (for example, a static\n",
       "  rendering on GitHub or <a href=\"https://nbviewer.jupyter.org/\">NBViewer</a>),\n",
       "  it may mean that your frontend doesn't currently support widgets.\n",
       "</p>\n"
      ],
      "text/plain": [
       "HBox(children=(IntProgress(value=0, description='Batch: ', max=311), HTML(value='')))"
      ]
     },
     "metadata": {},
     "output_type": "display_data"
    },
    {
     "data": {
      "application/vnd.jupyter.widget-view+json": {
       "model_id": "0d5a47f04bb5483681d79b12a6745132",
       "version_major": 2,
       "version_minor": 0
      },
      "text/html": [
       "<p>Failed to display Jupyter Widget of type <code>HBox</code>.</p>\n",
       "<p>\n",
       "  If you're reading this message in Jupyter Notebook or JupyterLab, it may mean\n",
       "  that the widgets JavaScript is still loading. If this message persists, it\n",
       "  likely means that the widgets JavaScript library is either not installed or\n",
       "  not enabled. See the <a href=\"https://ipywidgets.readthedocs.io/en/stable/user_install.html\">Jupyter\n",
       "  Widgets Documentation</a> for setup instructions.\n",
       "</p>\n",
       "<p>\n",
       "  If you're reading this message in another notebook frontend (for example, a static\n",
       "  rendering on GitHub or <a href=\"https://nbviewer.jupyter.org/\">NBViewer</a>),\n",
       "  it may mean that your frontend doesn't currently support widgets.\n",
       "</p>\n"
      ],
      "text/plain": [
       "HBox(children=(IntProgress(value=0, description='Batch: ', max=311), HTML(value='')))"
      ]
     },
     "metadata": {},
     "output_type": "display_data"
    },
    {
     "data": {
      "application/vnd.jupyter.widget-view+json": {
       "model_id": "a6e9bb13f02c41468d926dc392d7f124",
       "version_major": 2,
       "version_minor": 0
      },
      "text/html": [
       "<p>Failed to display Jupyter Widget of type <code>HBox</code>.</p>\n",
       "<p>\n",
       "  If you're reading this message in Jupyter Notebook or JupyterLab, it may mean\n",
       "  that the widgets JavaScript is still loading. If this message persists, it\n",
       "  likely means that the widgets JavaScript library is either not installed or\n",
       "  not enabled. See the <a href=\"https://ipywidgets.readthedocs.io/en/stable/user_install.html\">Jupyter\n",
       "  Widgets Documentation</a> for setup instructions.\n",
       "</p>\n",
       "<p>\n",
       "  If you're reading this message in another notebook frontend (for example, a static\n",
       "  rendering on GitHub or <a href=\"https://nbviewer.jupyter.org/\">NBViewer</a>),\n",
       "  it may mean that your frontend doesn't currently support widgets.\n",
       "</p>\n"
      ],
      "text/plain": [
       "HBox(children=(IntProgress(value=0, description='Batch: ', max=311), HTML(value='')))"
      ]
     },
     "metadata": {},
     "output_type": "display_data"
    },
    {
     "data": {
      "application/vnd.jupyter.widget-view+json": {
       "model_id": "04421ff61f8c407db1e173c3215ddce6",
       "version_major": 2,
       "version_minor": 0
      },
      "text/html": [
       "<p>Failed to display Jupyter Widget of type <code>HBox</code>.</p>\n",
       "<p>\n",
       "  If you're reading this message in Jupyter Notebook or JupyterLab, it may mean\n",
       "  that the widgets JavaScript is still loading. If this message persists, it\n",
       "  likely means that the widgets JavaScript library is either not installed or\n",
       "  not enabled. See the <a href=\"https://ipywidgets.readthedocs.io/en/stable/user_install.html\">Jupyter\n",
       "  Widgets Documentation</a> for setup instructions.\n",
       "</p>\n",
       "<p>\n",
       "  If you're reading this message in another notebook frontend (for example, a static\n",
       "  rendering on GitHub or <a href=\"https://nbviewer.jupyter.org/\">NBViewer</a>),\n",
       "  it may mean that your frontend doesn't currently support widgets.\n",
       "</p>\n"
      ],
      "text/plain": [
       "HBox(children=(IntProgress(value=0, description='Batch: ', max=311), HTML(value='')))"
      ]
     },
     "metadata": {},
     "output_type": "display_data"
    },
    {
     "data": {
      "application/vnd.jupyter.widget-view+json": {
       "model_id": "ba26468caf644e9abc2c67944991ef87",
       "version_major": 2,
       "version_minor": 0
      },
      "text/html": [
       "<p>Failed to display Jupyter Widget of type <code>HBox</code>.</p>\n",
       "<p>\n",
       "  If you're reading this message in Jupyter Notebook or JupyterLab, it may mean\n",
       "  that the widgets JavaScript is still loading. If this message persists, it\n",
       "  likely means that the widgets JavaScript library is either not installed or\n",
       "  not enabled. See the <a href=\"https://ipywidgets.readthedocs.io/en/stable/user_install.html\">Jupyter\n",
       "  Widgets Documentation</a> for setup instructions.\n",
       "</p>\n",
       "<p>\n",
       "  If you're reading this message in another notebook frontend (for example, a static\n",
       "  rendering on GitHub or <a href=\"https://nbviewer.jupyter.org/\">NBViewer</a>),\n",
       "  it may mean that your frontend doesn't currently support widgets.\n",
       "</p>\n"
      ],
      "text/plain": [
       "HBox(children=(IntProgress(value=0, description='Batch: ', max=311), HTML(value='')))"
      ]
     },
     "metadata": {},
     "output_type": "display_data"
    },
    {
     "data": {
      "application/vnd.jupyter.widget-view+json": {
       "model_id": "7b12952718704e25a2a9c346939f9acc",
       "version_major": 2,
       "version_minor": 0
      },
      "text/html": [
       "<p>Failed to display Jupyter Widget of type <code>HBox</code>.</p>\n",
       "<p>\n",
       "  If you're reading this message in Jupyter Notebook or JupyterLab, it may mean\n",
       "  that the widgets JavaScript is still loading. If this message persists, it\n",
       "  likely means that the widgets JavaScript library is either not installed or\n",
       "  not enabled. See the <a href=\"https://ipywidgets.readthedocs.io/en/stable/user_install.html\">Jupyter\n",
       "  Widgets Documentation</a> for setup instructions.\n",
       "</p>\n",
       "<p>\n",
       "  If you're reading this message in another notebook frontend (for example, a static\n",
       "  rendering on GitHub or <a href=\"https://nbviewer.jupyter.org/\">NBViewer</a>),\n",
       "  it may mean that your frontend doesn't currently support widgets.\n",
       "</p>\n"
      ],
      "text/plain": [
       "HBox(children=(IntProgress(value=0, description='Batch: ', max=311), HTML(value='')))"
      ]
     },
     "metadata": {},
     "output_type": "display_data"
    },
    {
     "data": {
      "application/vnd.jupyter.widget-view+json": {
       "model_id": "42cc9b4f5b2e4560a38784888065f508",
       "version_major": 2,
       "version_minor": 0
      },
      "text/html": [
       "<p>Failed to display Jupyter Widget of type <code>HBox</code>.</p>\n",
       "<p>\n",
       "  If you're reading this message in Jupyter Notebook or JupyterLab, it may mean\n",
       "  that the widgets JavaScript is still loading. If this message persists, it\n",
       "  likely means that the widgets JavaScript library is either not installed or\n",
       "  not enabled. See the <a href=\"https://ipywidgets.readthedocs.io/en/stable/user_install.html\">Jupyter\n",
       "  Widgets Documentation</a> for setup instructions.\n",
       "</p>\n",
       "<p>\n",
       "  If you're reading this message in another notebook frontend (for example, a static\n",
       "  rendering on GitHub or <a href=\"https://nbviewer.jupyter.org/\">NBViewer</a>),\n",
       "  it may mean that your frontend doesn't currently support widgets.\n",
       "</p>\n"
      ],
      "text/plain": [
       "HBox(children=(IntProgress(value=0, description='Batch: ', max=311), HTML(value='')))"
      ]
     },
     "metadata": {},
     "output_type": "display_data"
    },
    {
     "data": {
      "application/vnd.jupyter.widget-view+json": {
       "model_id": "0dd86db0cd034a47bd7d7bc2f07dd6f9",
       "version_major": 2,
       "version_minor": 0
      },
      "text/html": [
       "<p>Failed to display Jupyter Widget of type <code>HBox</code>.</p>\n",
       "<p>\n",
       "  If you're reading this message in Jupyter Notebook or JupyterLab, it may mean\n",
       "  that the widgets JavaScript is still loading. If this message persists, it\n",
       "  likely means that the widgets JavaScript library is either not installed or\n",
       "  not enabled. See the <a href=\"https://ipywidgets.readthedocs.io/en/stable/user_install.html\">Jupyter\n",
       "  Widgets Documentation</a> for setup instructions.\n",
       "</p>\n",
       "<p>\n",
       "  If you're reading this message in another notebook frontend (for example, a static\n",
       "  rendering on GitHub or <a href=\"https://nbviewer.jupyter.org/\">NBViewer</a>),\n",
       "  it may mean that your frontend doesn't currently support widgets.\n",
       "</p>\n"
      ],
      "text/plain": [
       "HBox(children=(IntProgress(value=0, description='Batch: ', max=311), HTML(value='')))"
      ]
     },
     "metadata": {},
     "output_type": "display_data"
    },
    {
     "data": {
      "application/vnd.jupyter.widget-view+json": {
       "model_id": "7bea7923287f4bdbad96709842b75d92",
       "version_major": 2,
       "version_minor": 0
      },
      "text/html": [
       "<p>Failed to display Jupyter Widget of type <code>HBox</code>.</p>\n",
       "<p>\n",
       "  If you're reading this message in Jupyter Notebook or JupyterLab, it may mean\n",
       "  that the widgets JavaScript is still loading. If this message persists, it\n",
       "  likely means that the widgets JavaScript library is either not installed or\n",
       "  not enabled. See the <a href=\"https://ipywidgets.readthedocs.io/en/stable/user_install.html\">Jupyter\n",
       "  Widgets Documentation</a> for setup instructions.\n",
       "</p>\n",
       "<p>\n",
       "  If you're reading this message in another notebook frontend (for example, a static\n",
       "  rendering on GitHub or <a href=\"https://nbviewer.jupyter.org/\">NBViewer</a>),\n",
       "  it may mean that your frontend doesn't currently support widgets.\n",
       "</p>\n"
      ],
      "text/plain": [
       "HBox(children=(IntProgress(value=0, description='Batch: ', max=311), HTML(value='')))"
      ]
     },
     "metadata": {},
     "output_type": "display_data"
    },
    {
     "data": {
      "application/vnd.jupyter.widget-view+json": {
       "model_id": "65be3ad8be224f00ba898170271eaae9",
       "version_major": 2,
       "version_minor": 0
      },
      "text/html": [
       "<p>Failed to display Jupyter Widget of type <code>HBox</code>.</p>\n",
       "<p>\n",
       "  If you're reading this message in Jupyter Notebook or JupyterLab, it may mean\n",
       "  that the widgets JavaScript is still loading. If this message persists, it\n",
       "  likely means that the widgets JavaScript library is either not installed or\n",
       "  not enabled. See the <a href=\"https://ipywidgets.readthedocs.io/en/stable/user_install.html\">Jupyter\n",
       "  Widgets Documentation</a> for setup instructions.\n",
       "</p>\n",
       "<p>\n",
       "  If you're reading this message in another notebook frontend (for example, a static\n",
       "  rendering on GitHub or <a href=\"https://nbviewer.jupyter.org/\">NBViewer</a>),\n",
       "  it may mean that your frontend doesn't currently support widgets.\n",
       "</p>\n"
      ],
      "text/plain": [
       "HBox(children=(IntProgress(value=0, description='Batch: ', max=311), HTML(value='')))"
      ]
     },
     "metadata": {},
     "output_type": "display_data"
    },
    {
     "data": {
      "application/vnd.jupyter.widget-view+json": {
       "model_id": "aa34a50d668b4f5b9787eca11a01f1b4",
       "version_major": 2,
       "version_minor": 0
      },
      "text/html": [
       "<p>Failed to display Jupyter Widget of type <code>HBox</code>.</p>\n",
       "<p>\n",
       "  If you're reading this message in Jupyter Notebook or JupyterLab, it may mean\n",
       "  that the widgets JavaScript is still loading. If this message persists, it\n",
       "  likely means that the widgets JavaScript library is either not installed or\n",
       "  not enabled. See the <a href=\"https://ipywidgets.readthedocs.io/en/stable/user_install.html\">Jupyter\n",
       "  Widgets Documentation</a> for setup instructions.\n",
       "</p>\n",
       "<p>\n",
       "  If you're reading this message in another notebook frontend (for example, a static\n",
       "  rendering on GitHub or <a href=\"https://nbviewer.jupyter.org/\">NBViewer</a>),\n",
       "  it may mean that your frontend doesn't currently support widgets.\n",
       "</p>\n"
      ],
      "text/plain": [
       "HBox(children=(IntProgress(value=0, description='Batch: ', max=311), HTML(value='')))"
      ]
     },
     "metadata": {},
     "output_type": "display_data"
    },
    {
     "data": {
      "application/vnd.jupyter.widget-view+json": {
       "model_id": "ef0b0969d66c401c8459e1f66c55523e",
       "version_major": 2,
       "version_minor": 0
      },
      "text/html": [
       "<p>Failed to display Jupyter Widget of type <code>HBox</code>.</p>\n",
       "<p>\n",
       "  If you're reading this message in Jupyter Notebook or JupyterLab, it may mean\n",
       "  that the widgets JavaScript is still loading. If this message persists, it\n",
       "  likely means that the widgets JavaScript library is either not installed or\n",
       "  not enabled. See the <a href=\"https://ipywidgets.readthedocs.io/en/stable/user_install.html\">Jupyter\n",
       "  Widgets Documentation</a> for setup instructions.\n",
       "</p>\n",
       "<p>\n",
       "  If you're reading this message in another notebook frontend (for example, a static\n",
       "  rendering on GitHub or <a href=\"https://nbviewer.jupyter.org/\">NBViewer</a>),\n",
       "  it may mean that your frontend doesn't currently support widgets.\n",
       "</p>\n"
      ],
      "text/plain": [
       "HBox(children=(IntProgress(value=0, description='Batch: ', max=311), HTML(value='')))"
      ]
     },
     "metadata": {},
     "output_type": "display_data"
    },
    {
     "data": {
      "application/vnd.jupyter.widget-view+json": {
       "model_id": "e8222c47c8f34d619642ffd7ae5b5a19",
       "version_major": 2,
       "version_minor": 0
      },
      "text/html": [
       "<p>Failed to display Jupyter Widget of type <code>HBox</code>.</p>\n",
       "<p>\n",
       "  If you're reading this message in Jupyter Notebook or JupyterLab, it may mean\n",
       "  that the widgets JavaScript is still loading. If this message persists, it\n",
       "  likely means that the widgets JavaScript library is either not installed or\n",
       "  not enabled. See the <a href=\"https://ipywidgets.readthedocs.io/en/stable/user_install.html\">Jupyter\n",
       "  Widgets Documentation</a> for setup instructions.\n",
       "</p>\n",
       "<p>\n",
       "  If you're reading this message in another notebook frontend (for example, a static\n",
       "  rendering on GitHub or <a href=\"https://nbviewer.jupyter.org/\">NBViewer</a>),\n",
       "  it may mean that your frontend doesn't currently support widgets.\n",
       "</p>\n"
      ],
      "text/plain": [
       "HBox(children=(IntProgress(value=0, description='Batch: ', max=311), HTML(value='')))"
      ]
     },
     "metadata": {},
     "output_type": "display_data"
    },
    {
     "data": {
      "application/vnd.jupyter.widget-view+json": {
       "model_id": "7a954b28581f4dce9e419a6c9e8e5864",
       "version_major": 2,
       "version_minor": 0
      },
      "text/html": [
       "<p>Failed to display Jupyter Widget of type <code>HBox</code>.</p>\n",
       "<p>\n",
       "  If you're reading this message in Jupyter Notebook or JupyterLab, it may mean\n",
       "  that the widgets JavaScript is still loading. If this message persists, it\n",
       "  likely means that the widgets JavaScript library is either not installed or\n",
       "  not enabled. See the <a href=\"https://ipywidgets.readthedocs.io/en/stable/user_install.html\">Jupyter\n",
       "  Widgets Documentation</a> for setup instructions.\n",
       "</p>\n",
       "<p>\n",
       "  If you're reading this message in another notebook frontend (for example, a static\n",
       "  rendering on GitHub or <a href=\"https://nbviewer.jupyter.org/\">NBViewer</a>),\n",
       "  it may mean that your frontend doesn't currently support widgets.\n",
       "</p>\n"
      ],
      "text/plain": [
       "HBox(children=(IntProgress(value=0, description='Batch: ', max=311), HTML(value='')))"
      ]
     },
     "metadata": {},
     "output_type": "display_data"
    },
    {
     "data": {
      "application/vnd.jupyter.widget-view+json": {
       "model_id": "6e2c53110d46403da55a6adae4bb99a0",
       "version_major": 2,
       "version_minor": 0
      },
      "text/html": [
       "<p>Failed to display Jupyter Widget of type <code>HBox</code>.</p>\n",
       "<p>\n",
       "  If you're reading this message in Jupyter Notebook or JupyterLab, it may mean\n",
       "  that the widgets JavaScript is still loading. If this message persists, it\n",
       "  likely means that the widgets JavaScript library is either not installed or\n",
       "  not enabled. See the <a href=\"https://ipywidgets.readthedocs.io/en/stable/user_install.html\">Jupyter\n",
       "  Widgets Documentation</a> for setup instructions.\n",
       "</p>\n",
       "<p>\n",
       "  If you're reading this message in another notebook frontend (for example, a static\n",
       "  rendering on GitHub or <a href=\"https://nbviewer.jupyter.org/\">NBViewer</a>),\n",
       "  it may mean that your frontend doesn't currently support widgets.\n",
       "</p>\n"
      ],
      "text/plain": [
       "HBox(children=(IntProgress(value=0, description='Batch: ', max=311), HTML(value='')))"
      ]
     },
     "metadata": {},
     "output_type": "display_data"
    },
    {
     "data": {
      "application/vnd.jupyter.widget-view+json": {
       "model_id": "0b5eeeb7c0df4233b4353f267f17d913",
       "version_major": 2,
       "version_minor": 0
      },
      "text/html": [
       "<p>Failed to display Jupyter Widget of type <code>HBox</code>.</p>\n",
       "<p>\n",
       "  If you're reading this message in Jupyter Notebook or JupyterLab, it may mean\n",
       "  that the widgets JavaScript is still loading. If this message persists, it\n",
       "  likely means that the widgets JavaScript library is either not installed or\n",
       "  not enabled. See the <a href=\"https://ipywidgets.readthedocs.io/en/stable/user_install.html\">Jupyter\n",
       "  Widgets Documentation</a> for setup instructions.\n",
       "</p>\n",
       "<p>\n",
       "  If you're reading this message in another notebook frontend (for example, a static\n",
       "  rendering on GitHub or <a href=\"https://nbviewer.jupyter.org/\">NBViewer</a>),\n",
       "  it may mean that your frontend doesn't currently support widgets.\n",
       "</p>\n"
      ],
      "text/plain": [
       "HBox(children=(IntProgress(value=0, description='Batch: ', max=311), HTML(value='')))"
      ]
     },
     "metadata": {},
     "output_type": "display_data"
    },
    {
     "data": {
      "application/vnd.jupyter.widget-view+json": {
       "model_id": "6fd236ffdbc041a2a17b2401d74fa512",
       "version_major": 2,
       "version_minor": 0
      },
      "text/html": [
       "<p>Failed to display Jupyter Widget of type <code>HBox</code>.</p>\n",
       "<p>\n",
       "  If you're reading this message in Jupyter Notebook or JupyterLab, it may mean\n",
       "  that the widgets JavaScript is still loading. If this message persists, it\n",
       "  likely means that the widgets JavaScript library is either not installed or\n",
       "  not enabled. See the <a href=\"https://ipywidgets.readthedocs.io/en/stable/user_install.html\">Jupyter\n",
       "  Widgets Documentation</a> for setup instructions.\n",
       "</p>\n",
       "<p>\n",
       "  If you're reading this message in another notebook frontend (for example, a static\n",
       "  rendering on GitHub or <a href=\"https://nbviewer.jupyter.org/\">NBViewer</a>),\n",
       "  it may mean that your frontend doesn't currently support widgets.\n",
       "</p>\n"
      ],
      "text/plain": [
       "HBox(children=(IntProgress(value=0, description='Batch: ', max=311), HTML(value='')))"
      ]
     },
     "metadata": {},
     "output_type": "display_data"
    },
    {
     "name": "stdout",
     "output_type": "stream",
     "text": [
      "\n",
      "SparsityPhiScore:          0.979\n",
      "SparsityThetaScore:        0.769\n",
      "PerplexityScore:           6.553\n",
      "Kernel contrast:           0.964\n",
      "Kernel purity:             1.000\n",
      "\n"
     ]
    }
   ],
   "source": [
    "def train_model(model_artm, print_measures_flag=False):\n",
    "    if print_measures_flag:\n",
    "        for i in range(num_collection_passes_full):\n",
    "            model_artm.fit_offline(batch_vectorizer=batch_vectorizer, num_collection_passes=num_collection_passes_output)\n",
    "            print_measures(model_artm)\n",
    "    else:\n",
    "        model_artm.fit_offline(batch_vectorizer=batch_vectorizer, num_collection_passes=num_collection_passes_full)\n",
    "        print_measures(model_artm)\n",
    "train_model(model_artm)"
   ]
  },
  {
   "cell_type": "markdown",
   "metadata": {},
   "source": [
    "## Get Perplexity Score plot"
   ]
  },
  {
   "cell_type": "markdown",
   "metadata": {},
   "source": [
    "Can help to get if model has converged or not"
   ]
  },
  {
   "cell_type": "code",
   "execution_count": 9,
   "metadata": {},
   "outputs": [
    {
     "data": {
      "image/png": "[encoded data removed]",
      "text/plain": [
       "<matplotlib.figure.Figure at 0x7f60b174d780>"
      ]
     },
     "metadata": {},
     "output_type": "display_data"
    }
   ],
   "source": [
    "y = model_artm.score_tracker['PerplexityScore'].value\n",
    "x = range(len(y))\n",
    "plt.plot(x, np.log(y), 'r--', linewidth=2)\n",
    "plt.xlabel(\"Iterations count\")\n",
    "plt.ylabel(\"log of perplexity\")\n",
    "plt.grid(True)\n",
    "plt.show()"
   ]
  },
  {
   "cell_type": "code",
   "execution_count": 10,
   "metadata": {},
   "outputs": [
    {
     "name": "stdout",
     "output_type": "stream",
     "text": [
      "topic_0:  ['plot']\n",
      "topic_1:  ['plot', 'semilogx', 'paint']\n",
      "topic_2:  ['scatter', 'arrow', 'normpdf', 'delay', 'spring', 'bone']\n",
      "topic_3:  ['legend', 'get', 'showtip', 'hidetip', 'revcmap']\n",
      "topic_4:  ['ylabel', 'xlabel', 'yscale', 'xscale', 'title', 'legend', 'plot', 'ylim']\n",
      "topic_5:  ['savefig', 'ion', 'violinplot', 'ioff', 'color', 'summer', 'winter', 'figure']\n",
      "topic_6:  ['write', 'specgram', 'circle', 'cvt', 'data', 'autumn']\n",
      "topic_7:  ['use', 'box', 'main', 'step', 'axhspan', 'scaled', 'center', 'polar', 'rgrids', 'movavg']\n",
      "topic_8:  ['join', 'matshow', 'mkdirs', 'figaspect', 'spectral']\n",
      "topic_9:  ['pop', 'connect', 'resize']\n",
      "topic_10:  ['remove', 'hold', 'ishold', 'detrend', 'sci', 'inner', 'triplot', 'barbs', 'tricontour', 'spy']\n",
      "topic_11:  ['sqrt', 'strftime', 'scale', 'start', 'end', 'reset', 'element', 'fix', 'interpgrid', 'accept']\n",
      "topic_12:  ['type', 'flush', 'param', 'iternext', 'axisinfo', 'mutatedx', 'myiter', 'prism']\n",
      "topic_13:  ['keys', 'values', 'cycler', 'drange', 'containsx', 'getp']\n",
      "topic_14:  ['range', 'push', 'twiny', 'arc']\n",
      "topic_15:  ['xticks', 'cla', 'yticks', 'hexbin', 'twinx', 'gradient', 'shrink', 'toarray', 'hpack', 'kern']\n",
      "topic_16:  ['clear', 'vlines', 'symbol', 'streamplot', 'unit', 'eventplot', 'findobj', 'matchfunc', 'null', 'locked']\n",
      "topic_17:  ['bar', 'shape', 'barh', 'relim', 'frange', 'bubble', 'sphere']\n",
      "topic_18:  ['text', 'ylim', 'xlim']\n",
      "topic_19:  ['imread', 'stop', 'imsave', 'process', 'tripcolor', 'saving', 'fromstr', 'tostr']\n",
      "topic_20:  ['gcf', 'clf', 'empty', 'destroy', 'ignore', 'csd', 'adjust']\n",
      "topic_21:  ['append', 'tostr', 'safezip']\n",
      "topic_22:  ['apply', 'ord', 'back', 'vpack', 'figlegend', 'dst']\n",
      "topic_23:  ['draw', 'boxplot', 'cubehelix']\n",
      "topic_24:  ['open', 'demean', 'dummy']\n",
      "topic_25:  ['set', 'transform', 'union', 'pause', 'clean', 'fedit']\n",
      "topic_26:  ['hist', 'func', 'group', 'frozen', 'axvspan', 'hlines', 'stem', 'tzname', 'xkcd', 'plane']\n",
      "topic_27:  ['unique', 'flatten', 'render', 'rotate', 'ginput', 'gray', 'shade', 'clamp', 'popall', 'reject']\n",
      "topic_28:  ['close', 'function', 'extract']\n",
      "topic_29:  ['run', 'report', 'select', 'constant', 'mainloop', 'enable', 'unselect', 'cleanup', 'inferno', 'reshow']\n",
      "topic_30:  ['title', 'subplot', 'labels', 'figure']\n",
      "topic_31:  ['dot', 'convert', 'quad', 'frame', 'verify', 'fixlist', 'diag']\n",
      "topic_32:  ['update', 'find', 'home']\n",
      "topic_33:  ['copy', 'slopes']\n",
      "topic_34:  ['range', 'power', 'griddata', 'skew', 'base']\n",
      "topic_35:  ['imshow', 'axis', 'pcolormesh', 'finddir', 'connected']\n",
      "topic_36:  ['join', 'setup', 'teardown']\n",
      "topic_37:  ['grid', 'joined', 'diag', 'edges', 'writeln', 'flipy']\n",
      "topic_38:  ['show', 'tricontourf', 'xcorr', 'funcy']\n",
      "topic_39:  ['save', 'contourf', 'seek', 'parse', 'forward', 'dedent', 'disconnect', 'subs', 'clim', 'context']\n",
      "topic_40:  ['format', 'zoom']\n",
      "topic_41:  ['figure', 'colorbar', 'pcolor', 'dist', 'inside', 'binom', 'colors']\n",
      "topic_42:  ['axes', 'findfont', 'quiver', 'loglog', 'figtext', 'grow', 'quiverkey', 'check', 'bump', 'hsv']\n",
      "topic_43:  ['output', 'knownfailureif', 'gci', 'utcoffset', 'padded', 'closeto', 'hatch', 'waitforbuttonpress']\n",
      "topic_44:  ['gca', 'figure']\n",
      "topic_45:  ['append']\n",
      "topic_46:  ['setp', 'fill', 'nonsingular', 'sca', 'finish', 'after', 'stroke', 'init', 'hitlist', 'before']\n",
      "topic_47:  ['contour', 'errorbar', 'clabel', 'blit', 'stackplot', 'closest', 'gauss', 'press', 'trigger', 'maxdict']\n",
      "topic_48:  ['list', 'pie', 'table', 'psd', 'refresh', 'name', 'pad', 'project', 'suppress', 'makekey']\n",
      "topic_49:  ['add', 'jet', 'pan', 'pilread', 'set']\n"
     ]
    }
   ],
   "source": [
    "# Get most valuable topic tokens to understand topic model better.\n",
    "for topic_name in model_artm.topic_names:\n",
    "    print(topic_name + ': ', model_artm.score_tracker['TopTokensScore'].last_tokens[topic_name])"
   ]
  },
  {
   "cell_type": "code",
   "execution_count": 11,
   "metadata": {},
   "outputs": [
    {
     "data": {
      "text/plain": [
       "<matplotlib.axes._subplots.AxesSubplot at 0x7f5ff40bb1d0>"
      ]
     },
     "execution_count": 11,
     "metadata": {},
     "output_type": "execute_result"
    },
    {
     "data": {
      "image/png": "[encoded data removed]",
      "text/plain": [
       "<matplotlib.figure.Figure at 0x7f60a81c4d68>"
      ]
     },
     "metadata": {},
     "output_type": "display_data"
    }
   ],
   "source": [
    "# Plot topic-token matrix.\n",
    "import seaborn as sns\n",
    "sns.set_style(\"whitegrid\")\n",
    "plt.figure(figsize=(30, 30))\n",
    "sns.heatmap(model_artm.phi_)"
   ]
  },
  {
   "cell_type": "code",
   "execution_count": 12,
   "metadata": {},
   "outputs": [],
   "source": [
    "# Save topic-token (phi) and token-snippet (theta) matrixes\n",
    "model_artm.phi_.to_csv(os.path.join(data_dir, \"matlab_phi_mat.tsv\"), sep='\\t',header=False, index=False)\n",
    "with open(os.path.join(data_dir, \"matlab_phi_indx.tsv\"), \"w\") as f:\n",
    "    f.write(\"\\n\".join(list(model_artm.phi_.index)) + '\\n')\n",
    "os.chmod(os.path.join(data_dir, \"matlab_phi_mat.tsv\"), 0o666)\n",
    "os.chmod(os.path.join(data_dir, \"matlab_phi_indx.tsv\"), 0o666)\n",
    "\n",
    "theta_matrix = model_artm.get_theta()\n",
    "theta_matrix.T.to_csv(os.path.join(data_dir, \"matlab_theta_mat.tsv\"), sep='\\t',header=False, index=False)\n",
    "with open(os.path.join(data_dir, \"matlab_theta_indx.tsv\"), \"w\") as f:\n",
    "    f.write(\"\\n\".join(list(theta_matrix.T.index)) + '\\n')\n",
    "os.chmod(os.path.join(data_dir, \"matlab_theta_mat.tsv\"), 0o666)\n",
    "os.chmod(os.path.join(data_dir, \"matlab_theta_indx.tsv\"), 0o666)"
   ]
  },
  {
   "cell_type": "markdown",
   "metadata": {},
   "source": [
    "## Transform new snippet"
   ]
  },
  {
   "cell_type": "markdown",
   "metadata": {},
   "source": [
    "In case you need to get topic representation for new snippet"
   ]
  },
  {
   "cell_type": "code",
   "execution_count": 13,
   "metadata": {},
   "outputs": [],
   "source": [
    "# Self-sufficient independent inports\n",
    "import os\n",
    "from ast2vec import bblfsh_roles\n",
    "from snippet_ranger import utils\n",
    "from snippet_ranger.models.snippet import Snippet\n",
    "from snippet_ranger.model2.snippet2bow import SnippetModel2FuncCallsBOW\n",
    "from ast2vec import UASTModel, DocumentFrequencies\n",
    "from ast2vec.vw_dataset import convert_bow_to_vw\n",
    "from bblfsh import BblfshClient\n",
    "import artm\n",
    "\n",
    "def code2batch(code):\n",
    "    \"\"\"\n",
    "    Converts string with code directly to new BigARTM batch:\n",
    "    Code -> Snippet Model -> BOW Model -> Vowpal Wabbit -> BigARTM batch\n",
    "    Only way to transform new snippet.\n",
    "    You need bblfsh server v0.0.7 running with 0.8.2 Python driver. \n",
    "    \"\"\"\n",
    "    filepath = './temp/snippet.py'\n",
    "    os.makedirs(os.path.dirname(filepath), exist_ok=True)\n",
    "    with open(filepath, 'w') as f:\n",
    "        f.write(code)\n",
    "\n",
    "    bc = BblfshClient(\"172.17.0.1:9432\")\n",
    "    res = bc.parse(filepath, language='Python')\n",
    "\n",
    "    s = Snippet()\n",
    "    s.construct(\"code\", [\"code\"], [res.uast], [code],\n",
    "                positions_start=[0], positions_end=[code.count(\"\\n\")])\n",
    "\n",
    "    docfreq = '/storage/konstantin/data/dfs_fc/matplotlib_df.asdf'\n",
    "    df = DocumentFrequencies().load(docfreq)\n",
    "\n",
    "    s2b = SnippetModel2FuncCallsBOW(len(df), df, num_processes=1)\n",
    "    bow = s2b.convert_model(s)\n",
    "    snbfn = 'snippet_vw.txt'\n",
    "    batches_dir = 'snippet_batch'\n",
    "    dict_path = \"snippet_dict\"\n",
    "    convert_bow_to_vw(bow, snbfn)\n",
    "    try:\n",
    "        os.remove(dict_path)\n",
    "    except:\n",
    "        pass\n",
    "    batch_vectorizer = artm.BatchVectorizer(\n",
    "        data_path=snbfn, data_format=\"vowpal_wabbit\", collection_name=\"Snippet\",\n",
    "        target_folder=batches_dir)\n",
    "    dictionary = batch_vectorizer.dictionary\n",
    "    return batch_vectorizer"
   ]
  },
  {
   "cell_type": "code",
   "execution_count": 14,
   "metadata": {},
   "outputs": [
    {
     "name": "stderr",
     "output_type": "stream",
     "text": [
      "INFO:docfreq:Reading /storage/konstantin/data/dfs_fc/matplotlib_df.asdf...\n",
      "INFO:docfreq:Building the docfreq dictionary...\n",
      "INFO:snippet2bow:Choosing the vocabulary...\n",
      "INFO:bow2vw:Writing snippet_vw.txt\n"
     ]
    },
    {
     "data": {
      "application/vnd.jupyter.widget-view+json": {
       "model_id": "6cb729c5dd5b4c12bf53f87d9fee8494",
       "version_major": 2,
       "version_minor": 0
      },
      "text/html": [
       "<p>Failed to display Jupyter Widget of type <code>HBox</code>.</p>\n",
       "<p>\n",
       "  If you're reading this message in Jupyter Notebook or JupyterLab, it may mean\n",
       "  that the widgets JavaScript is still loading. If this message persists, it\n",
       "  likely means that the widgets JavaScript library is either not installed or\n",
       "  not enabled. See the <a href=\"https://ipywidgets.readthedocs.io/en/stable/user_install.html\">Jupyter\n",
       "  Widgets Documentation</a> for setup instructions.\n",
       "</p>\n",
       "<p>\n",
       "  If you're reading this message in another notebook frontend (for example, a static\n",
       "  rendering on GitHub or <a href=\"https://nbviewer.jupyter.org/\">NBViewer</a>),\n",
       "  it may mean that your frontend doesn't currently support widgets.\n",
       "</p>\n"
      ],
      "text/plain": [
       "HBox(children=(IntProgress(value=0, description='Batch: ', max=1), HTML(value='')))"
      ]
     },
     "metadata": {},
     "output_type": "display_data"
    },
    {
     "name": "stdout",
     "output_type": "stream",
     "text": [
      "\r",
      "          code/code_0_7\n",
      "topic_0        0.088108\n",
      "topic_1        0.083005\n",
      "topic_2        0.000000\n",
      "topic_3        0.000000\n",
      "topic_4        0.000000\n",
      "topic_5        0.000000\n",
      "topic_6        0.000000\n",
      "topic_7        0.000000\n",
      "topic_8        0.000000\n",
      "topic_9        0.000000\n",
      "topic_10       0.000000\n",
      "topic_11       0.000000\n",
      "topic_12       0.000000\n",
      "topic_13       0.000000\n",
      "topic_14       0.169631\n",
      "topic_15       0.000000\n",
      "topic_16       0.000000\n",
      "topic_17       0.000000\n",
      "topic_18       0.000000\n",
      "topic_19       0.000000\n",
      "topic_20       0.000000\n",
      "topic_21       0.000000\n",
      "topic_22       0.000000\n",
      "topic_23       0.000000\n",
      "topic_24       0.000000\n",
      "topic_25       0.000000\n",
      "topic_26       0.000000\n",
      "topic_27       0.000000\n",
      "topic_28       0.000000\n",
      "topic_29       0.000000\n",
      "topic_30       0.000000\n",
      "topic_31       0.000000\n",
      "topic_32       0.000000\n",
      "topic_33       0.000000\n",
      "topic_34       0.143744\n",
      "topic_35       0.000000\n",
      "topic_36       0.000000\n",
      "topic_37       0.000000\n",
      "topic_38       0.278849\n",
      "topic_39       0.000000\n",
      "topic_40       0.000000\n",
      "topic_41       0.236663\n",
      "topic_42       0.000000\n",
      "topic_43       0.000000\n",
      "topic_44       0.000000\n",
      "topic_45       0.000000\n",
      "topic_46       0.000000\n",
      "topic_47       0.000000\n",
      "topic_48       0.000000\n",
      "topic_49       0.000000\n"
     ]
    }
   ],
   "source": [
    "# check:\n",
    "code = \"\"\"\n",
    "from matplotlib import pyplot as plt\n",
    "plt.figure(figsize=(10,10))\n",
    "x = range(20)\n",
    "y = range(20)\n",
    "plt.plot(x,y)\n",
    "plt.show()\n",
    "\"\"\"\n",
    "sn_batch_vectorizer = code2batch(code)\n",
    "x = model_artm.transform(sn_batch_vectorizer)\n",
    "print(x)"
   ]
  },
  {
   "cell_type": "markdown",
   "metadata": {},
   "source": [
    "# How to train hierarchical topic model"
   ]
  },
  {
   "cell_type": "markdown",
   "metadata": {},
   "source": [
    "**On going...**"
   ]
  },
  {
   "cell_type": "code",
   "execution_count": 15,
   "metadata": {
    "scrolled": true
   },
   "outputs": [
    {
     "name": "stdout",
     "output_type": "stream",
     "text": [
      "SparsityPhiScore:          0.713\n",
      "SparsityThetaScore:        0.618\n",
      "PerplexityScore:          45.412\n",
      "Kernel contrast:           0.994\n",
      "Kernel purity:             0.990\n",
      "\n",
      "[286.8885498046875, 81.32962799072266, 75.4485092163086, 69.44510650634766, 64.07815551757812, 59.80461502075195, 56.62196350097656, 54.332862854003906, 52.71855926513672, 51.5455322265625, 50.62627410888672, 49.85963439941406, 49.19702911376953, 48.626129150390625, 48.139373779296875, 47.72269821166992, 47.36608123779297, 47.04627990722656, 46.733150482177734, 46.422706604003906, 46.14145278930664, 45.91961669921875, 45.764137268066406, 45.659912109375, 45.589324951171875, 45.539188385009766, 45.50178909301758, 45.47330093383789, 45.451759338378906, 45.43587875366211, 45.424705505371094, 45.41743087768555, 45.41328811645508, 45.41157150268555, 45.411617279052734]\n",
      "['format', 'figure', 'gca', 'imshow', 'dot', 'type', 'draw', 'grid', 'text', 'remove']\n",
      "['plot', 'close', 'savefig', 'open', 'legend', 'hist', 'title', 'ylabel', 'xlabel', 'values']\n",
      "['append', 'list', 'show', 'pop', 'keys', 'scatter', 'gcf', 'clf', 'boxplot', 'connect']\n",
      "['range', 'join', 'copy', 'sqrt', 'write', 'update', 'get', 'apply', 'save', 'scale']\n",
      "SparsityPhiScore:          0.895\n",
      "SparsityThetaScore:        0.848\n",
      "PerplexityScore:          20.348\n",
      "Kernel contrast:           0.991\n",
      "Kernel purity:             0.986\n",
      "\n",
      "[294.226318359375, 83.62002563476562, 74.64241027832031, 62.78110122680664, 51.599700927734375, 42.058048248291016, 34.76455307006836, 30.120901107788086, 27.365554809570312, 25.6710262298584, 24.55423355102539, 23.777936935424805, 23.226598739624023, 22.824100494384766, 22.521495819091797, 22.27754783630371, 22.06615447998047, 21.87464714050293, 21.69774055480957, 21.534704208374023, 21.389875411987305, 21.268522262573242, 21.167850494384766, 21.078472137451172, 20.989309310913086, 20.895681381225586, 20.806766510009766, 20.728445053100586, 20.652618408203125, 20.57744026184082, 20.511110305786133, 20.457101821899414, 20.41361427307129, 20.377979278564453, 20.348190307617188]\n",
      "['figure', 'gca', 'grid', 'unique', 'contourf', 'errorbar', 'cla', 'psd', 'loglog', 'draw']\n",
      "['values', 'setp', 'transform', 'add', 'ylim', 'xlim', 'pcolormesh', 'union', 'joined', 'render']\n",
      "['append', 'boxplot', 'gradient', 'axvspan', 'step', 'griddata', 'toarray', 'fix', 'finish', 'relim']\n",
      "['update', 'get', 'apply', 'save', 'resize', 'seek', 'convert', 'writeln', 'findfont', 'figtext']\n",
      "['plot', 'open', 'shape', 'destroy', 'end', 'element', 'yscale', 'xscale', 'quiverkey', 'suppress']\n",
      "['show', 'scatter', 'gcf', 'connect', 'clear', 'find', 'hexbin', 'ion', 'table', 'edges']\n",
      "['close', 'empty', 'contour', 'start', 'report', 'fill', 'group', 'clabel', 'quiver', 'knownfailureif']\n",
      "['imshow', 'set', 'axis', 'colorbar', 'subplot', 'imsave', 'scaled', 'center', 'closeto', 'show']\n",
      "['join', 'imread', 'open', 'forward', 'pad', 'demean', 'pan', 'range', 'onselect', 'slopes']\n",
      "['format', 'bar', 'run', 'draw', 'flatten', 'func', 'vlines', 'push', 'grow', 'vpack']\n",
      "['pop', 'clf', 'hold', 'barh', 'ishold', 'twinx', 'specgram', 'sca', 'detrend', 'pause']\n",
      "['copy', 'sqrt', 'write', 'scale', 'power', 'flush', 'ord', 'frozen', 'pie', 'diag']\n",
      "['dot', 'type', 'text', 'remove', 'axes', 'function', 'cycler', 'refresh', 'symbol', 'jet']\n",
      "['list', 'keys', 'use', 'strftime', 'rotate', 'main', 'delta', 'findobj', 'normpdf', 'matchfunc']\n",
      "['range', 'draw', 'blit', 'disconnect', 'utcoffset', 'cvt', 'closest', 'set', 'push', 'shade']\n",
      "['savefig', 'legend', 'hist', 'title', 'ylabel', 'xlabel', 'xticks', 'figure', 'subplot', 'yticks']\n",
      "SparsityPhiScore:          0.952\n",
      "SparsityThetaScore:        0.930\n",
      "PerplexityScore:           6.438\n",
      "Kernel contrast:           0.915\n",
      "Kernel purity:             0.895\n",
      "\n",
      "[289.85211181640625, 78.14535522460938, 60.90772247314453, 37.67391586303711, 21.091224670410156, 14.068900108337402, 10.954139709472656, 9.432174682617188, 8.657767295837402, 8.183581352233887, 7.851684093475342, 7.605587959289551, 7.400688648223877, 7.2288641929626465, 7.091105937957764, 6.976451873779297, 6.879032611846924, 6.796517372131348, 6.727474689483643, 6.670317649841309, 6.623518466949463, 6.585663318634033, 6.555349826812744, 6.531247138977051, 6.512126922607422, 6.496860504150391, 6.4845356941223145, 6.4744672775268555, 6.466120719909668, 6.4591288566589355, 6.453248500823975, 6.448313236236572, 6.4441962242126465, 6.440803527832031, 6.438027858734131]\n",
      "['grid', 'contourf', 'psd', 'loglog', 'ginput', 'hlines', 'hitlist', 'inside', 'bump', 'fixlist']\n",
      "['joined', 'stop', 'output', 'matshow', 'setup', 'subs', 'clim', 'barbs', 'padded', 'home']\n",
      "['scatter', 'hexbin', 'context', 'gcf', 'step', 'bone', 'show', 'add', 'pcolor', 'find']\n",
      "['get', 'apply', 'convert', 'writeln', 'findfont', 'enable', 'inner', 'param', 'drange', 'check']\n",
      "['plot', 'destroy', 'end', 'element', 'quiverkey', 'suppress', 'toval', 'axisinfo', 'funcy', 'comment']\n",
      "['gcf', 'find', 'ion', 'pcolor', 'ioff', 'gray', 'quad', 'finddir', 'color', 'hot']\n",
      "['contour', 'report', 'clabel', 'quiver', 'ignore', 'mkdirs', 'spy', 'skew', 'frange', 'waitforbuttonpress']\n",
      "['set', 'colorbar', 'imsave', 'scaled', 'center', 'labels', 'closeto', 'inferno', 'imshow', 'magma']\n",
      "['join', 'imread', 'forward', 'pan', 'slopes', 'hsv', 'colors', 'failer', 'pad', 'open']\n",
      "['bar', 'run', 'vlines', 'push', 'grow', 'vpack', 'format', 'flatten', 'draw', 'func']\n",
      "['hold', 'barh', 'ishold', 'specgram', 'sca', 'detrend', 'pause', 'gci', 'sci', 'arrow']\n",
      "['scale', 'pie', 'diag', 'select', 'violinplot', 'process', 'unselect', 'interpgrid', 'hpack', 'fromstr']\n",
      "['text', 'function', 'cycler', 'jet', 'dist', 'figaspect', 'shade', 'trigger', 'spectral', 'popall']\n",
      "['keys', 'delta', 'containsx', 'getp', 'list', 'dst', 'use', 'normpdf', 'add', 'rotate']\n",
      "['draw', 'push', 'shade']\n",
      "['title', 'xticks', 'zoom', 'yticks', 'ylabel', 'xlabel', 'legend', 'xlim', 'savefig', 'ylim']\n",
      "['savefig', 'nonsingular', 'streamplot', 'null', 'xlim', 'infodict', 'legend', 'figure', 'xlabel', 'ylabel']\n",
      "['remove', 'bubble', 'adjust', 'type', 'refresh', 'dot', 'axes', 'closest', 'cycler', 'text']\n",
      "['copy', 'extract', 'shrink', 'dedent', 'hpack', 'sqrt', 'kern', 'write', 'scale', 'power']\n",
      "['pop', 'clf', 'twinx', 'pick', 'acorr', 'figlegend', 'step', 'reshow', 'sca', 'hold']\n",
      "['transform', 'ylim', 'xlim', 'render', 'mainloop', 'stem', 'xkcd', 'maxdict', 'add', 'clim']\n",
      "['append', 'relim', 'gauss', 'tzname', 'cmd', 'show']\n",
      "['type', 'axes', 'refresh', 'symbol', 'saving', 'text', 'closest', 'axis', 'twiny', 'dot']\n",
      "['boxplot', 'arc', 'cmd', 'makekey', 'append', 'reshow', 'plane', 'show', 'relim', 'step']\n",
      "['copy', 'frozen', 'write', 'binom', 'flush', 'power', 'sqrt', 'extract', 'scale', 'hpack']\n",
      "['values', 'union', 'clean', 'transform', 'clamp', 'fedit', 'add', 'pcolormesh', 'stop', 'render']\n",
      "['savefig', 'isvector', 'figure', 'hist', 'clf', 'legend', 'xlabel', 'xticks', 'ylabel', 'title']\n",
      "['flatten', 'func', 'format', 'hot', 'vpack', 'shade', 'bar', 'vlines', 'run', 'draw']\n",
      "['close', 'fill', 'plot', 'clf', 'figure']\n",
      "['ylabel', 'xlabel', 'tripcolor', 'title', 'mutatedx', 'kern', 'xlim', 'ylim', 'legend', 'clf']\n",
      "['subplot', 'closeto', 'show', 'figure', 'step']\n",
      "['dot', 'text', 'closest', 'axis', 'type', 'loglog', 'axes', 'dist']\n",
      "['empty', 'close', 'accept', 'tostr', 'onmove', 'fill', 'ignore', 'base', 'clf', 'start']\n",
      "['legend', 'stackplot', 'polar', 'rgrids', 'layers', 'savefig', 'xlabel', 'title', 'ylabel', 'xlim']\n",
      "['range', 'closest', 'shade', 'draw']\n",
      "['setp', 'add', 'pcolormesh', 'parse', 'semilogx', 'stem', 'render', 'ylim', 'xlim', 'clim']\n",
      "['join', 'pad', 'demean', 'onselect', 'open', 'labels', 'imread', 'forward']\n",
      "['plot', 'yscale', 'xscale', 'xlim', 'ylim', 'xlabel', 'ylabel', 'open', 'clf', 'legend']\n",
      "['append', 'step', 'tzname', 'griddata', 'show', 'finish', 'arc', 'fix']\n",
      "['update', 'save', 'resize', 'seek', 'figtext', 'circle', 'get', 'showtip', 'inner', 'convert']\n",
      "['format', 'run', 'vlines', 'flatten', 'draw', 'bar', 'vpack']\n",
      "['xlabel', 'ylabel', 'yticks', 'box', 'xticks', 'title', 'legend', 'xlim', 'figure', 'ylim']\n",
      "['write', 'flush', 'ord', 'csd', 'cvt', 'process', 'sqrt', 'dedent', 'inner', 'copy']\n",
      "['hist', 'xlim', 'semilogx', 'ylim', 'clf', 'title', 'figure', 'xticks', 'savefig', 'xlabel']\n",
      "['figure', 'reset', 'twiny', 'gca', 'grid', 'hlines', 'psd']\n",
      "['append', 'gradient', 'axvspan', 'griddata', 'toarray', 'delay', 'wrapper', 'boxplot', 'step', 'show']\n",
      "['append', 'finish', 'after', 'stroke', 'init', 'iternext', 'before', 'plane', 'hatch', 'flipy']\n",
      "['gca', 'errorbar', 'closest', 'cubehelix', 'figure', 'reset', 'unique', 'grid', 'contourf', 'twiny']\n",
      "['list', 'use', 'normpdf', 'keys', 'findobj', 'add', 'matchfunc', 'getp']\n",
      "['open', 'plot', 'pilread']\n",
      "['sqrt', 'power', 'scale', 'diag', 'process', 'copy', 'flush', 'write', 'extract', 'ord']\n",
      "['show', 'table', 'edges', 'name', 'constant', 'scatter', 'gcf', 'pcolor', 'step', 'connect']\n",
      "['format', 'run', 'shade', 'imshow', 'func', 'draw', 'hot', 'flatten', 'push', 'bar']\n",
      "['list', 'strftime', 'rotate', 'main', 'findobj', 'matchfunc', 'reject', 'connected', 'keys', 'reshow']\n",
      "['append', 'fix', 'prctile', 'sphere', 'gauss', 'wrapper', 'relim']\n",
      "['plot', 'shape', 'open', 'clf', 'press', 'element', 'end', 'yscale', 'xscale']\n",
      "['unique', 'cla', 'unit', 'eventplot', 'cleanup', 'gca', 'figure', 'errorbar', 'contourf', 'grid']\n",
      "['imshow', 'axis', 'hot', 'colorbar', 'show', 'step', 'figure', 'shade', 'subplot', 'reshow']\n",
      "['close', 'start', 'group', 'knownfailureif', 'data', 'autumn', 'summer', 'winter', 'contour', 'fill']\n",
      "['range', 'blit', 'set']\n",
      "['plot', 'press', 'open', 'xscale', 'clf', 'yscale', 'shape']\n",
      "['show', 'ion', 'scatter', 'pcolor', 'step', 'pause', 'gray', 'find', 'gcf', 'connect']\n",
      "['range', 'disconnect', 'utcoffset', 'cvt', 'set', 'blit', 'closest']\n",
      "['connect', 'clear', 'scatter', 'find', 'show', 'add', 'finddir', 'color', 'hexbin', 'hot']\n"
     ]
    }
   ],
   "source": [
    "import os\n",
    "import shutil\n",
    "import artm\n",
    "from artm.dictionary import Dictionary\n",
    "\n",
    "nums_topics = [4, 16, 64]\n",
    "\n",
    "hARTM = artm.hARTM(seed=seed,\n",
    "                   dictionary=dictionary, \n",
    "                   scores=scores, \n",
    "                   regularizers=regularizers,\n",
    "                   num_document_passes=num_document_passes,\n",
    "                   cache_theta=cache_theta,\n",
    "                   theta_columns_naming='title')\n",
    "\n",
    "# train from level to level\n",
    "for num_topics in nums_topics:\n",
    "    level = hARTM.add_level(num_topics=num_topics, parent_level_weight=1)\n",
    "    level.initialize(dictionary)\n",
    "    train_model(level)\n",
    "\n",
    "    print(level.score_tracker['PerplexityScore'].value)\n",
    "\n",
    "    top_tokens = level.score_tracker['TopTokensScore'].last_tokens\n",
    "    for topic_name in level.topic_names:\n",
    "        print(top_tokens[topic_name])"
   ]
  },
  {
   "cell_type": "code",
   "execution_count": 16,
   "metadata": {},
   "outputs": [],
   "source": [
    "# save model\n",
    "model_dir = os.path.join(data_dir, 'hARTM')\n",
    "if os.path.exists(model_dir):\n",
    "    shutil.rmtree(model_dir)\n",
    "os.makedirs(model_dir, exist_ok=True)\n",
    "hARTM.save(model_dir)"
   ]
  }
 ],
 "metadata": {
  "kernelspec": {
   "display_name": "Python 3",
   "language": "python",
   "name": "python3"
  },
  "language_info": {
   "codemirror_mode": {
    "name": "ipython",
    "version": 3
   },
   "file_extension": ".py",
   "mimetype": "text/x-python",
   "name": "python",
   "nbconvert_exporter": "python",
   "pygments_lexer": "ipython3",
   "version": "3.5.2"
  }
 },
 "nbformat": 4,
 "nbformat_minor": 2
}
